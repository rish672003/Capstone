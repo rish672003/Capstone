print(f"Total Sales: ${Total_Sales:,.1f}")
print(f"Average Sales: ${Average_Sales:.0f}")
print(f"Total Items Sold: {Total_Items_Sold:,.0f}")
print(f"Average Rating: {avg_rating:.2f}")